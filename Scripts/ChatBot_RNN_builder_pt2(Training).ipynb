{
 "cells": [
  {
   "cell_type": "markdown",
   "metadata": {},
   "source": [
    "# In this Notebook, I use the pickled data in the previous notebook and build a Seq2Seq model using the API made by farizrahman4u"
   ]
  },
  {
   "cell_type": "markdown",
   "metadata": {},
   "source": [
    "## I start with some utility cells that I always need in all my notebooks"
   ]
  },
  {
   "cell_type": "code",
   "execution_count": 1,
   "metadata": {},
   "outputs": [
    {
     "name": "stderr",
     "output_type": "stream",
     "text": [
      "Using TensorFlow backend.\n"
     ]
    }
   ],
   "source": [
    "# general modules for preprocessing and other stuff\n",
    "import os # for os related calls\n",
    "from subprocess import check_output\n",
    "\n",
    "# for visualization stuff\n",
    "import matplotlib.pyplot as plt\n",
    "import numpy as np\n",
    "\n",
    "# for pickling the data\n",
    "from six.moves import cPickle as pickle\n",
    "\n",
    "# for the seq2seq model\n",
    "import keras\n",
    "import seq2seq\n",
    "from seq2seq.models import SimpleSeq2Seq\n",
    "\n",
    "%matplotlib inline"
   ]
  },
  {
   "cell_type": "code",
   "execution_count": 2,
   "metadata": {
    "collapsed": true
   },
   "outputs": [],
   "source": [
    "def exec_command(cmd):\n",
    "    '''\n",
    "        function to execute a shell command and see it's \n",
    "        output in the python console\n",
    "        @params\n",
    "        cmd = the command to be executed along with the arguments\n",
    "              ex: ['ls', '../input']\n",
    "    '''\n",
    "    print check_output(cmd).decode(\"utf8\")"
   ]
  },
  {
   "cell_type": "code",
   "execution_count": 3,
   "metadata": {
    "collapsed": true
   },
   "outputs": [],
   "source": [
    "''' define the important paths for the Task '''\n",
    "data_path = \"../Data/cornell_movie_dialogs_corpus\"\n",
    "train_file = os.path.join(data_path, \"movie_lines.txt\")\n",
    "save_path = os.path.join(data_path, \"Data_final.pickle\")\n",
    "model_path = \"../Models\"\n",
    "\n",
    "''' define a few important constant --variables. '''\n",
    "field_separator = \"+++$+++\""
   ]
  },
  {
   "cell_type": "markdown",
   "metadata": {},
   "source": [
    "# Ok! Now let's build the Model"
   ]
  },
  {
   "cell_type": "code",
   "execution_count": 4,
   "metadata": {
    "collapsed": true
   },
   "outputs": [],
   "source": [
    "# Set the hyper parameters:\n",
    "input_length = 35\n",
    "input_dim = 64\n",
    "hidden_dim = 10\n",
    "output_dim = input_dim\n",
    "output_length = input_length\n",
    "depth = 3 # 3 for encoder and 3 for decoder. So 6 in total."
   ]
  },
  {
   "cell_type": "code",
   "execution_count": 5,
   "metadata": {
    "collapsed": true
   },
   "outputs": [],
   "source": [
    "# The model for seq2seq (ChatBot)\n",
    "\n",
    "'''\n",
    "*****************************************************************************************************************\n",
    "The Model used for training on the data:\n",
    "*****************************************************************************************************************\n",
    "'''\n",
    "from keras.models import Sequential, Model\n",
    "from keras.layers.embeddings import Embedding\n",
    "\n",
    "main_model = SimpleSeq2Seq(output_length, 1, input_dim=input_length, hidden_dim=hidden_dim, depth=depth)\n",
    "main_model.compile(loss='mse', optimizer='rmsprop')\n",
    "\n",
    "# add_model = Sequential()\n",
    "# add_model.add(Embedding(len(dictionary), 64, input_length=input_length))\n",
    "\n",
    "# model = Model(inputs=add_model.input, outputs=main_model(add_model.output))\n",
    "main_model.compile('rmsprop', 'mse')"
   ]
  },
  {
   "cell_type": "code",
   "execution_count": 6,
   "metadata": {},
   "outputs": [
    {
     "name": "stdout",
     "output_type": "stream",
     "text": [
      "____________________________________________________________________________________________________\n",
      "Layer (type)                     Output Shape          Param #     Connected to                     \n",
      "====================================================================================================\n",
      "input_4 (InputLayer)             (None, None, 35)      0                                            \n",
      "____________________________________________________________________________________________________\n",
      "private__optional_input_place_ho (2,)                  0                                            \n",
      "____________________________________________________________________________________________________\n",
      "private__optional_input_place_ho (2,)                  0                                            \n",
      "____________________________________________________________________________________________________\n",
      "private__optional_input_place_ho (2,)                  0                                            \n",
      "____________________________________________________________________________________________________\n",
      "private__optional_input_place_ho (2,)                  0                                            \n",
      "____________________________________________________________________________________________________\n",
      "private__optional_input_place_ho (2,)                  0                                            \n",
      "____________________________________________________________________________________________________\n",
      "private__optional_input_place_ho (2,)                  0                                            \n",
      "____________________________________________________________________________________________________\n",
      "recurrent_sequential_1 (Recurren (None, 10)            3520        input_4[0][0]                    \n",
      "                                                                   private__optional_input_place_hol\n",
      "                                                                   private__optional_input_place_hol\n",
      "                                                                   private__optional_input_place_hol\n",
      "                                                                   private__optional_input_place_hol\n",
      "                                                                   private__optional_input_place_hol\n",
      "                                                                   private__optional_input_place_hol\n",
      "____________________________________________________________________________________________________\n",
      "private__optional_input_place_ho (2,)                  0                                            \n",
      "____________________________________________________________________________________________________\n",
      "private__optional_input_place_ho (2,)                  0                                            \n",
      "____________________________________________________________________________________________________\n",
      "private__optional_input_place_ho (2,)                  0                                            \n",
      "____________________________________________________________________________________________________\n",
      "private__optional_input_place_ho (2,)                  0                                            \n",
      "____________________________________________________________________________________________________\n",
      "private__optional_input_place_ho (2,)                  0                                            \n",
      "____________________________________________________________________________________________________\n",
      "private__optional_input_place_ho (2,)                  0                                            \n",
      "____________________________________________________________________________________________________\n",
      "recurrent_sequential_2 (Recurren (None, 1, 35)         8120        recurrent_sequential_1[0][0]     \n",
      "                                                                   private__optional_input_place_hol\n",
      "                                                                   private__optional_input_place_hol\n",
      "                                                                   private__optional_input_place_hol\n",
      "                                                                   private__optional_input_place_hol\n",
      "                                                                   private__optional_input_place_hol\n",
      "                                                                   private__optional_input_place_hol\n",
      "====================================================================================================\n",
      "Total params: 11,640\n",
      "Trainable params: 11,640\n",
      "Non-trainable params: 0\n",
      "____________________________________________________________________________________________________\n"
     ]
    }
   ],
   "source": [
    "main_model.summary()"
   ]
  },
  {
   "cell_type": "code",
   "execution_count": 7,
   "metadata": {},
   "outputs": [
    {
     "data": {
      "text/plain": [
       "3"
      ]
     },
     "execution_count": 7,
     "metadata": {},
     "output_type": "execute_result"
    }
   ],
   "source": [
    "# get the data from the pickled dictionary\n",
    "with open(save_path, \"rb\") as pickle_file:\n",
    "    my_dict = pickle.load(pickle_file)\n",
    "    \n",
    "len(my_dict)"
   ]
  },
  {
   "cell_type": "code",
   "execution_count": 8,
   "metadata": {
    "collapsed": true
   },
   "outputs": [],
   "source": [
    "# extract the data from the pickle\n",
    "Data = my_dict['data'] \n",
    "dictionary = my_dict['mapping']\n",
    "reverse_dictionary = my_dict['rev_mapping']"
   ]
  },
  {
   "cell_type": "code",
   "execution_count": 9,
   "metadata": {},
   "outputs": [
    {
     "name": "stdout",
     "output_type": "stream",
     "text": [
      "(286730, 1, 35)\n"
     ]
    },
    {
     "data": {
      "text/plain": [
       "array([[[   110,     25,   2325, 164642, 164642, 164642, 164642, 164642,\n",
       "         164642, 164642, 164642, 164642, 164642, 164642, 164642, 164642,\n",
       "         164642, 164642, 164642, 164642, 164642, 164642, 164642, 164642,\n",
       "         164642, 164642, 164642, 164642, 164642, 164642, 164642, 164642,\n",
       "         164642, 164642, 164642]],\n",
       "\n",
       "       [[   110,     25,   4074, 164642, 164642, 164642, 164642, 164642,\n",
       "         164642, 164642, 164642, 164642, 164642, 164642, 164642, 164642,\n",
       "         164642, 164642, 164642, 164642, 164642, 164642, 164642, 164642,\n",
       "         164642, 164642, 164642, 164642, 164642, 164642, 164642, 164642,\n",
       "         164642, 164642, 164642]],\n",
       "\n",
       "       [[     0,    434,    445, 164642, 164642, 164642, 164642, 164642,\n",
       "         164642, 164642, 164642, 164642, 164642, 164642, 164642, 164642,\n",
       "         164642, 164642, 164642, 164642, 164642, 164642, 164642, 164642,\n",
       "         164642, 164642, 164642, 164642, 164642, 164642, 164642, 164642,\n",
       "         164642, 164642, 164642]]], dtype=int32)"
      ]
     },
     "execution_count": 9,
     "metadata": {},
     "output_type": "execute_result"
    }
   ],
   "source": [
    "Data = Data.reshape((Data.shape[0], 1, Data.shape[1]))\n",
    "print Data.shape\n",
    "Data[: 3]"
   ]
  },
  {
   "cell_type": "code",
   "execution_count": 10,
   "metadata": {},
   "outputs": [
    {
     "name": "stdout",
     "output_type": "stream",
     "text": [
      "286730 286729 286729\n"
     ]
    }
   ],
   "source": [
    "# Create the Fitting data\n",
    "data_X = Data[:len(Data) - 1]\n",
    "data_y = Data[1:]\n",
    "# check if the data lengths are equal: \n",
    "print len(Data), len(data_X), len(data_y)"
   ]
  },
  {
   "cell_type": "code",
   "execution_count": null,
   "metadata": {},
   "outputs": [
    {
     "name": "stdout",
     "output_type": "stream",
     "text": [
      "Earlier Model loaded\n",
      "Epoch 1/5\n",
      "286729/286729 [==============================] - 80s - loss: 4339623282.6884    \n",
      "Epoch 2/5\n",
      "286729/286729 [==============================] - 82s - loss: 4444212526.9325    \n",
      "Epoch 3/5\n",
      "286729/286729 [==============================] - 85s - loss: 4743843835.2466    \n",
      "Epoch 4/5\n",
      "286729/286729 [==============================] - 79s - loss: 5814930786.8139    \n",
      "Epoch 5/5\n",
      "212000/286729 [=====================>........] - ETA: 22s - loss: 8684888459.6504"
     ]
    }
   ],
   "source": [
    "# running for only one epoch for now.\n",
    "path = os.path.join(model_path, \"Model1\")\n",
    "if(os.path.isfile(path)):\n",
    "    main_model.load_weights(path)\n",
    "    print \"Earlier Model loaded\"\n",
    "    \n",
    "main_model.fit(data_X, data_y, epochs=5)"
   ]
  },
  {
   "cell_type": "markdown",
   "metadata": {},
   "source": [
    "# OMG!! Can't believe the loss figure!"
   ]
  },
  {
   "cell_type": "code",
   "execution_count": 12,
   "metadata": {
    "collapsed": true
   },
   "outputs": [],
   "source": [
    "# save the model here:\n",
    "main_model.save_weights(os.path.join(model_path, \"Model1\"))"
   ]
  },
  {
   "cell_type": "code",
   "execution_count": 13,
   "metadata": {},
   "outputs": [
    {
     "data": {
      "text/plain": [
       "array(['Hello!', 'I', 'am', 'a', 'programmer.', ' ', ' ', ' ', ' ', ' ',\n",
       "       ' ', ' ', ' ', ' ', ' ', ' ', ' ', ' ', ' ', ' ', ' ', ' ', ' ',\n",
       "       ' ', ' ', ' ', ' ', ' ', ' ', ' ', ' ', ' ', ' ', ' ', ' '],\n",
       "      dtype='|S11')"
      ]
     },
     "execution_count": 13,
     "metadata": {},
     "output_type": "execute_result"
    }
   ],
   "source": [
    "# Random test this model for once:\n",
    "input_sentence = \"Hello! I am a programmer.\".split()\n",
    "\n",
    "# convert the input sentence using the dictionary:\n",
    "input_data = np.array(input_sentence + ([\" \"] * (input_length - len(input_sentence))))\n",
    "input_data"
   ]
  },
  {
   "cell_type": "code",
   "execution_count": 14,
   "metadata": {},
   "outputs": [],
   "source": [
    "for i in range(len(input_data)):\n",
    "    try:\n",
    "        input_data[i] = dictionary[input_data[i]]\n",
    "    \n",
    "    except KeyError: \n",
    "        input_data[i] = dictionary[\"other\"]"
   ]
  },
  {
   "cell_type": "code",
   "execution_count": 15,
   "metadata": {},
   "outputs": [],
   "source": [
    "input_data = input_data.reshape((1, 1, input_length))"
   ]
  },
  {
   "cell_type": "code",
   "execution_count": 16,
   "metadata": {},
   "outputs": [],
   "source": [
    "output_data = main_model.predict(input_data)"
   ]
  },
  {
   "cell_type": "code",
   "execution_count": 17,
   "metadata": {},
   "outputs": [
    {
     "data": {
      "text/plain": [
       "'religious fun... Casablanca, functional. saltier polyester. Cy. life.</i> bellied\\x97 sparrowlike Partisans patsy\". Why\". Dunois? ground... Assets Four-Eyes\\'ll Decker.... so...convincing. playing...we forgetful, wiretap, Marathon. Senate--uh--what home\\'s Tiberius reefer. Equitation. Glaucoma? oaf withal, Nigger\\'s Shaky? tch, dentist\\'s?'"
      ]
     },
     "execution_count": 17,
     "metadata": {},
     "output_type": "execute_result"
    }
   ],
   "source": [
    "reduce(lambda x, y: x + \" \" + y, map(lambda x: reverse_dictionary[x], map(int, output_data[0, 0, :])))"
   ]
  },
  {
   "cell_type": "markdown",
   "metadata": {},
   "source": [
    "# Currently, It is returning some garbled senseless Replies. But, If we train it for longer, tweak some parameters, the result should improve."
   ]
  }
 ],
 "metadata": {
  "kernelspec": {
   "display_name": "Python 2",
   "language": "python",
   "name": "python2"
  },
  "language_info": {
   "codemirror_mode": {
    "name": "ipython",
    "version": 2
   },
   "file_extension": ".py",
   "mimetype": "text/x-python",
   "name": "python",
   "nbconvert_exporter": "python",
   "pygments_lexer": "ipython2",
   "version": "2.7.13"
  }
 },
 "nbformat": 4,
 "nbformat_minor": 2
}
